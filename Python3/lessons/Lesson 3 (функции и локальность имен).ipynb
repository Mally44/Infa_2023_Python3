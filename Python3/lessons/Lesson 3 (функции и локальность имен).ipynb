{
 "cells": [
  {
   "cell_type": "code",
   "execution_count": 1,
   "id": "e66f8211",
   "metadata": {},
   "outputs": [
    {
     "name": "stdout",
     "output_type": "stream",
     "text": [
      "None\n"
     ]
    }
   ],
   "source": [
    "def foo():\n",
    "    pass\n",
    "\n",
    "\n",
    "x = foo()\n",
    "print(x)"
   ]
  },
  {
   "cell_type": "code",
   "execution_count": 2,
   "id": "1b0cbd4b",
   "metadata": {},
   "outputs": [
    {
     "name": "stdout",
     "output_type": "stream",
     "text": [
      "4\n"
     ]
    }
   ],
   "source": [
    "def foo(x):\n",
    "    return x ** 2\n",
    "\n",
    "\n",
    "y = foo(2)\n",
    "print(y)"
   ]
  },
  {
   "cell_type": "code",
   "execution_count": 6,
   "id": "b2393b9f",
   "metadata": {},
   "outputs": [
    {
     "name": "stdout",
     "output_type": "stream",
     "text": [
      "[7, 2, 5]\n"
     ]
    }
   ],
   "source": [
    "def foo(X, y):\n",
    "    X[0] = 7\n",
    "\n",
    "\n",
    "a = [1, 2, 5]\n",
    "z = foo(a, 3)\n",
    "print(a)"
   ]
  },
  {
   "cell_type": "code",
   "execution_count": 10,
   "id": "b2f3341c",
   "metadata": {},
   "outputs": [
    {
     "name": "stdout",
     "output_type": "stream",
     "text": [
      "[7, 8, 9]\n"
     ]
    }
   ],
   "source": [
    "def foo(X, y):\n",
    "    X[0] = 7\n",
    "    X = [2, 5, 2]\n",
    "\n",
    "\n",
    "a = [1, 8, 9]\n",
    "z = foo(a, 3)\n",
    "print(a)"
   ]
  },
  {
   "cell_type": "code",
   "execution_count": 3,
   "id": "2c905913",
   "metadata": {},
   "outputs": [
    {
     "name": "stdout",
     "output_type": "stream",
     "text": [
      "мама\n"
     ]
    }
   ],
   "source": [
    "def foo(x: str, y: int):\n",
    "    result = x\n",
    "    for i in range(y-1):\n",
    "        result += x\n",
    "    return result\n",
    "\n",
    "\n",
    "z = foo('ма', 2)\n",
    "print(z)"
   ]
  },
  {
   "cell_type": "code",
   "execution_count": 17,
   "id": "e32b9294",
   "metadata": {},
   "outputs": [
    {
     "name": "stdout",
     "output_type": "stream",
     "text": [
      "bar arg= 1\n",
      "bar arg= 2\n",
      "bar arg= 3\n",
      "bar arg= jelly\n",
      "bar arg= fish\n",
      "SEPARATOR arg= jelly\n",
      "SEPARATOR arg= fish\n"
     ]
    },
    {
     "data": {
      "text/plain": [
       "'print(foo(1,2,3))\\nprint(foo(z=1,x=2,y=3)) # именные параметры\\nprint(foo(1,2))\\nprint(foo(7))\\n'"
      ]
     },
     "execution_count": 17,
     "metadata": {},
     "output_type": "execute_result"
    }
   ],
   "source": [
    "def foo(x, y=0, z=0):\n",
    "    return 100 * x + 10 * y + 1 * z\n",
    "\n",
    "\n",
    "def bar(*args, named_parameter='bar'):\n",
    "    for arg in args:\n",
    "        print(named_parameter, 'arg=', arg)\n",
    "\n",
    "\n",
    "bar(1, 2, 3)\n",
    "bar('jelly', 'fish')\n",
    "bar('jelly', 'fish', named_parameter='SEPARATOR')\n",
    "\n",
    "\n",
    "'''print(foo(1,2,3))\n",
    "print(foo(z=1,x=2,y=3)) # именные параметры\n",
    "print(foo(1,2))\n",
    "print(foo(7))\n",
    "'''"
   ]
  },
  {
   "cell_type": "code",
   "execution_count": null,
   "id": "799bf3c0",
   "metadata": {},
   "outputs": [],
   "source": []
  }
 ],
 "metadata": {
  "kernelspec": {
   "display_name": "Python 3 (ipykernel)",
   "language": "python",
   "name": "python3"
  },
  "language_info": {
   "codemirror_mode": {
    "name": "ipython",
    "version": 3
   },
   "file_extension": ".py",
   "mimetype": "text/x-python",
   "name": "python",
   "nbconvert_exporter": "python",
   "pygments_lexer": "ipython3",
   "version": "3.11.1"
  }
 },
 "nbformat": 4,
 "nbformat_minor": 5
}
