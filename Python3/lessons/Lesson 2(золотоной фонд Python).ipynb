{
 "cells": [
  {
   "cell_type": "code",
   "execution_count": null,
   "id": "de0206a9",
   "metadata": {},
   "outputs": [],
   "source": [
    "x, y = 1, 2\n",
    "x, y = y, x\n",
    "print(x, y)"
   ]
  },
  {
   "cell_type": "code",
   "execution_count": null,
   "id": "3a26bdc4",
   "metadata": {},
   "outputs": [],
   "source": [
    "t = 1,2,3,4,5\n",
    "print(type(t))\n"
   ]
  },
  {
   "cell_type": "code",
   "execution_count": null,
   "id": "52396f7a",
   "metadata": {},
   "outputs": [],
   "source": [
    "t = 1,2,3,4,5,6,7\n",
    "a,b,*rest = t\n",
    "print(a,b)"
   ]
  },
  {
   "cell_type": "code",
   "execution_count": null,
   "id": "0045f257",
   "metadata": {},
   "outputs": [],
   "source": [
    "t = 1,2,3,4,5,6,7\n",
    "*rest,a,b = t\n",
    "print(a,b)"
   ]
  },
  {
   "cell_type": "code",
   "execution_count": null,
   "id": "2bc7a7ba",
   "metadata": {},
   "outputs": [],
   "source": [
    "t = 1,2,3,4,5,6,7\n",
    "*rest,a,b = t\n",
    "print(*t, sep = ';', end = '!\\n') #перевод строки - \\n, sep - что будет между, end - что будет в конце\n"
   ]
  },
  {
   "cell_type": "code",
   "execution_count": null,
   "id": "d13d64bc",
   "metadata": {},
   "outputs": [],
   "source": [
    "def hello_n(name: str, n: int): #заголовок\n",
    "    for i in range (n):         \n",
    "        print('Привет', name)     #тело\n",
    "x = 'вася',5\n",
    "hello_n(*x)\n"
   ]
  },
  {
   "cell_type": "code",
   "execution_count": null,
   "id": "9b1a6d0f",
   "metadata": {},
   "outputs": [],
   "source": [
    "A = range(1,6)\n",
    "print(*A)  # со звездочкой 1 2 3 4 5 , без range(1,6)"
   ]
  },
  {
   "cell_type": "code",
   "execution_count": null,
   "id": "4cdfcbff",
   "metadata": {
    "code_folding": []
   },
   "outputs": [],
   "source": [
    "A = (2,2,2)  #кортеж неизменяемый\n",
    "for x in A:\n",
    "    print(x)"
   ]
  },
  {
   "cell_type": "code",
   "execution_count": null,
   "id": "c8e9aef1",
   "metadata": {},
   "outputs": [],
   "source": [
    "A = [1,2,3] #список изменяемый\n",
    "print(*A)"
   ]
  },
  {
   "cell_type": "code",
   "execution_count": null,
   "id": "bc3ab74e",
   "metadata": {},
   "outputs": [],
   "source": [
    "A = [(70,10),(63,10),(82,10)] #список кортежей\n",
    "for angle,lenght in A:\n",
    "    turtle.fd(lenght)\n",
    "   \n",
    "    \n"
   ]
  },
  {
   "cell_type": "code",
   "execution_count": null,
   "id": "e6f9baa3",
   "metadata": {},
   "outputs": [],
   "source": [
    "s = {'moscow','piter','voronezh'}\n",
    "s.add('riga')\n",
    "if 'riga' in s:\n",
    "    print ('да')\n",
    "else:\n",
    "    print('нет')"
   ]
  },
  {
   "cell_type": "code",
   "execution_count": null,
   "id": "09dd8265",
   "metadata": {},
   "outputs": [],
   "source": [
    "s = {'moscow','piter','voronezh'}\n",
    "for el in s:\n",
    "    print(el)"
   ]
  },
  {
   "cell_type": "code",
   "execution_count": 1,
   "id": "7242fff1",
   "metadata": {},
   "outputs": [
    {
     "name": "stdout",
     "output_type": "stream",
     "text": [
      "moscow 7890\n",
      "piter 48789\n",
      "voronezh 6789\n",
      "riga 123\n"
     ]
    }
   ],
   "source": [
    "d = {'moscow':7890, 'piter':48789, 'voronezh':6789}\n",
    "d['riga']= 123\n",
    "for x in d:\n",
    "    print(x, d[x])"
   ]
  },
  {
   "cell_type": "code",
   "execution_count": 7,
   "id": "b41d3651",
   "metadata": {},
   "outputs": [
    {
     "name": "stdout",
     "output_type": "stream",
     "text": [
      "1 2 10 20 30 40 6 7\n"
     ]
    }
   ],
   "source": [
    "A = [1, 2, 3,4, 5, 6, 7]\n",
    "A[2:5] = [10, 20, 30, 40]\n",
    "\n"
   ]
  },
  {
   "cell_type": "code",
   "execution_count": 2,
   "id": "2f3ca60b",
   "metadata": {},
   "outputs": [
    {
     "data": {
      "text/plain": [
       "[7, 5, 3, 1]"
      ]
     },
     "execution_count": 2,
     "metadata": {},
     "output_type": "execute_result"
    }
   ],
   "source": [
    "A = [1, 2, 3,4, 5, 6, 7]\n"
   ]
  },
  {
   "cell_type": "code",
   "execution_count": null,
   "id": "4e47bf1e",
   "metadata": {},
   "outputs": [],
   "source": []
  }
 ],
 "metadata": {
  "kernelspec": {
   "display_name": "Python 3 (ipykernel)",
   "language": "python",
   "name": "python3"
  },
  "language_info": {
   "codemirror_mode": {
    "name": "ipython",
    "version": 3
   },
   "file_extension": ".py",
   "mimetype": "text/x-python",
   "name": "python",
   "nbconvert_exporter": "python",
   "pygments_lexer": "ipython3",
   "version": "3.11.1"
  }
 },
 "nbformat": 4,
 "nbformat_minor": 5
}
