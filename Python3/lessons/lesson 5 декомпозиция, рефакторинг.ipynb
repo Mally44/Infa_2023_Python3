{
 "cells": [
  {
   "cell_type": "code",
   "execution_count": 1,
   "id": "21f203c6",
   "metadata": {},
   "outputs": [
    {
     "name": "stdout",
     "output_type": "stream",
     "text": [
      "Тира рисую домик... 100 100 200 200\n"
     ]
    }
   ],
   "source": [
    "# рисуем домик\n",
    "def draw_house(x, y, width, height):\n",
    "    '''\n",
    "    Рисует домик полной ширины width и высоты height от опорной точки (x, y),\n",
    "    которая находится в середине нижней точки фундамета\n",
    "    x, y - координата x середины домика , координата y низа фундамента\n",
    "    width, height - полная ширина и высота домика\n",
    "    '''\n",
    "    print('Типа рисую домик...',x, y, width, height )\n",
    "    pass # do nothing\n",
    "\n",
    "\n",
    "x, y = 100, 100\n",
    "width, height = 200, 200\n",
    "draw_house(x, y, width, height)"
   ]
  }
 ],
 "metadata": {
  "kernelspec": {
   "display_name": "Python 3 (ipykernel)",
   "language": "python",
   "name": "python3"
  },
  "language_info": {
   "codemirror_mode": {
    "name": "ipython",
    "version": 3
   },
   "file_extension": ".py",
   "mimetype": "text/x-python",
   "name": "python",
   "nbconvert_exporter": "python",
   "pygments_lexer": "ipython3",
   "version": "3.11.1"
  }
 },
 "nbformat": 4,
 "nbformat_minor": 5
}
