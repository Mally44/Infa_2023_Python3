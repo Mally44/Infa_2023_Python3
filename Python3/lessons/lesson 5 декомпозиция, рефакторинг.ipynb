{
 "cells": [
  {
   "cell_type": "code",
   "execution_count": 1,
   "id": "21f203c6",
   "metadata": {
    "code_folding": [
     3
    ]
   },
   "outputs": [
    {
     "name": "stdout",
     "output_type": "stream",
     "text": [
      "Типа рисую домик... 300 400 200 300\n",
      "Типа рисую основание... 300 400 200 30.0\n",
      "Типа рисую стену... 300 370.0 180.0 150.0\n",
      "Типа рисую крышу... 300 220.0 200 120.0\n"
     ]
    }
   ],
   "source": [
    "# рисуем домик\n",
    "\n",
    "\n",
    "def main():\n",
    "    x, y = 300, 400\n",
    "    width, height = 200, 300\n",
    "    draw_house(x, y, width, height)\n",
    "\n",
    "\n",
    "def draw_house(x, y, width, height):\n",
    "    '''\n",
    "    Рисует домик полной ширины width и высоты height от опорной точки (x, y),\n",
    "    которая находится в середине нижней точки фундамета\n",
    "    x, y - координата x середины домика , координата y низа фундамента\n",
    "    width, height - полная ширина и высота домика\n",
    "    '''\n",
    "    print('Типа рисую домик...', x, y, width, height)\n",
    "    foundation_height = 0.1 * height\n",
    "    walls_height = 0.5 * height\n",
    "    walls_width = 0.9 * width\n",
    "    roof_height = height - foundation_height - walls_height\n",
    "\n",
    "    draw_house_foundation(x, y, width, foundation_height)\n",
    "    draw_house_walls(x, y - foundation_height, walls_width, walls_height)\n",
    "    draw_house_roof(x, y - foundation_height -\n",
    "                    walls_height, width, roof_height)\n",
    "\n",
    "\n",
    "def draw_house_foundation(x, y, width, height):\n",
    "    '''\n",
    "    Рисует фундамент полной ширины width и высоты height от опорной точки (x, y),\n",
    "    которая находится в середине нижней точки фундамета\n",
    "    x, y - координата x середины домика , координата y низа фундамента\n",
    "    width, height - полная ширина и высота домика\n",
    "    '''\n",
    "    print('Типа рисую основание...', x, y, width, height)\n",
    "    pass\n",
    "\n",
    "\n",
    "def draw_house_walls(x, y, width, height):\n",
    "    '''\n",
    "    Рисует стены полной ширины width и высоты height от опорной точки (x, y),\n",
    "    которая находится в середине нижней точки фундамета\n",
    "    x, y - координата x середины домика , координата y низа фундамента\n",
    "    width, height - полная ширина и высота домика\n",
    "    '''\n",
    "    print('Типа рисую стену...', x, y, width, height)\n",
    "    pass\n",
    "\n",
    "\n",
    "def draw_house_roof(x, y, width, height):\n",
    "    '''\n",
    "    Рисует крышу полной ширины width и высоты height от опорной точки (x, y),\n",
    "    которая находится в середине нижней точки фундамета\n",
    "    x, y - координата x середины домика , координата y низа фундамента\n",
    "    width, height - полная ширина и высота домика\n",
    "    '''\n",
    "    print('Типа рисую крышу...', x, y, width, height)\n",
    "    pass\n",
    "\n",
    "\n",
    "main()"
   ]
  },
  {
   "cell_type": "code",
   "execution_count": null,
   "id": "e96beadb",
   "metadata": {},
   "outputs": [],
   "source": []
  }
 ],
 "metadata": {
  "kernelspec": {
   "display_name": "Python 3 (ipykernel)",
   "language": "python",
   "name": "python3"
  },
  "language_info": {
   "codemirror_mode": {
    "name": "ipython",
    "version": 3
   },
   "file_extension": ".py",
   "mimetype": "text/x-python",
   "name": "python",
   "nbconvert_exporter": "python",
   "pygments_lexer": "ipython3",
   "version": "3.11.1"
  }
 },
 "nbformat": 4,
 "nbformat_minor": 5
}
