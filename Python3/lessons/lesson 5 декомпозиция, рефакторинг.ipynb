{
 "cells": [
  {
   "cell_type": "code",
   "execution_count": 1,
   "id": "21f203c6",
   "metadata": {},
   "outputs": [
    {
     "name": "stdout",
     "output_type": "stream",
     "text": [
      "Типа рисую домик... 100 100 200 200\n"
     ]
    }
   ],
   "source": [
    "# рисуем домик\n",
    "def draw_house(x, y, width, height):\n",
    "    \n",
    "    print('Типа рисую домик...',x, y, width, height )\n",
    "    pass # do nothing\n",
    "\n",
    "\n",
    "x, y = 100, 100\n",
    "width, height = 200, 200\n",
    "draw_house(x, y, width, height)"
   ]
  },
  {
   "cell_type": "code",
   "execution_count": null,
   "id": "e96beadb",
   "metadata": {},
   "outputs": [],
   "source": []
  }
 ],
 "metadata": {
  "kernelspec": {
   "display_name": "Python 3 (ipykernel)",
   "language": "python",
   "name": "python3"
  },
  "language_info": {
   "codemirror_mode": {
    "name": "ipython",
    "version": 3
   },
   "file_extension": ".py",
   "mimetype": "text/x-python",
   "name": "python",
   "nbconvert_exporter": "python",
   "pygments_lexer": "ipython3",
   "version": "3.11.1"
  }
 },
 "nbformat": 4,
 "nbformat_minor": 5
}
