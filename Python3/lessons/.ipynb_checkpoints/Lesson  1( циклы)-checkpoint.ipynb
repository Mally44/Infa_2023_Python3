{
 "cells": [
  {
   "cell_type": "code",
   "execution_count": null,
   "id": "5505f3cc",
   "metadata": {},
   "outputs": [],
   "source": [
    "x = 10 \n",
    "while True:\n",
    "    x -= 1\n",
    "    if x < 0:\n",
    "        break\n",
    "    print (x)"
   ]
  },
  {
   "cell_type": "code",
   "execution_count": null,
   "id": "b3ff7d71",
   "metadata": {},
   "outputs": [],
   "source": [
    "x = 9\n",
    "while x >= 0:\n",
    "    print (x)\n",
    "    x -= 1"
   ]
  },
  {
   "cell_type": "code",
   "execution_count": null,
   "id": "54e10d24",
   "metadata": {},
   "outputs": [],
   "source": [
    "for x in range (9, -1, -1):\n",
    "    print (x)"
   ]
  },
  {
   "cell_type": "code",
   "execution_count": null,
   "id": "e307eb16",
   "metadata": {},
   "outputs": [],
   "source": [
    "x = int (input())\n",
    "y = int (input())\n",
    "\n",
    "if x>0 and y>0:\n",
    "    print (1)\n",
    "elif x<0 and y>0:\n",
    "    print (2)\n",
    "elif x<0 and y<0:\n",
    "    print (3)\n",
    "elif x>0 and y<0:\n",
    "    print (4)\n",
    "else:\n",
    "     print('Никогда!')"
   ]
  },
  {
   "cell_type": "code",
   "execution_count": 1,
   "id": "ec61b4e4",
   "metadata": {},
   "outputs": [
    {
     "name": "stdout",
     "output_type": "stream",
     "text": [
      "как дела?хорошо\n"
     ]
    }
   ],
   "source": [
    " x= input('как дела?')"
   ]
  },
  {
   "cell_type": "code",
   "execution_count": 6,
   "id": "ca3663ab",
   "metadata": {},
   "outputs": [
    {
     "name": "stdout",
     "output_type": "stream",
     "text": [
      "Как тeбя зовут? Андрей\n",
      "Привет!,  Андрей!\n"
     ]
    }
   ],
   "source": [
    "name = input('Как тeбя зовут?')\n",
    "print (f'Привет!, {name}!')"
   ]
  },
  {
   "cell_type": "code",
   "execution_count": null,
   "id": "10d8bc38",
   "metadata": {},
   "outputs": [],
   "source": []
  }
 ],
 "metadata": {
  "kernelspec": {
   "display_name": "Python 3 (ipykernel)",
   "language": "python",
   "name": "python3"
  },
  "language_info": {
   "codemirror_mode": {
    "name": "ipython",
    "version": 3
   },
   "file_extension": ".py",
   "mimetype": "text/x-python",
   "name": "python",
   "nbconvert_exporter": "python",
   "pygments_lexer": "ipython3",
   "version": "3.11.1"
  }
 },
 "nbformat": 4,
 "nbformat_minor": 5
}
