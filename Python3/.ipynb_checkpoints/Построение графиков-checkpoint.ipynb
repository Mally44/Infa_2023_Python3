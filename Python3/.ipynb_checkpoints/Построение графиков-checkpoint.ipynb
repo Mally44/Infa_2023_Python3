{
 "cells": [
  {
   "cell_type": "code",
   "execution_count": null,
   "id": "c1962bbc",
   "metadata": {},
   "outputs": [],
   "source": [
    "%matplotlib notebook"
   ]
  },
  {
   "cell_type": "code",
   "execution_count": null,
   "id": "bdd56769",
   "metadata": {},
   "outputs": [],
   "source": [
    "import matplotlib.pyplot as plt\n",
    "import numpy as np\n",
    "\n",
    "\n",
    "import matplotlib.pyplot as plt\n",
    "x = np.arange(-10, 10, 0.01)\n",
    "plt.plot(x, x**2)\n",
    "plt.show()"
   ]
  },
  {
   "cell_type": "code",
   "execution_count": null,
   "id": "3d48decf",
   "metadata": {},
   "outputs": [],
   "source": [
    "import numpy as np\n",
    "import matplotlib.pyplot as plt\n",
    "x = np.arange(-10, 10.01, 0.01)\n",
    "plt.plot(x, np.sin(x),x, np.cos(x), x, -x )\n",
    "plt.show()\n"
   ]
  },
  {
   "cell_type": "code",
   "execution_count": null,
   "id": "d7feef78",
   "metadata": {},
   "outputs": [],
   "source": [
    "import numpy as np\n",
    "import matplotlib.pyplot as plt\n",
    "x = np.arange(-10, 10.01, 0.01)\n",
    "plt.plot(x, np.sin(x), x, np.cos(x), x, -x)\n",
    "plt.xlabel(r'$x$')\n",
    "plt.ylabel(r'$f(x)$')\n",
    "plt.title(r'$f_1(x)=\\sin(x),\\ f_2(x)=\\cos(x),\\ f_3(x)=-x$')\n",
    "plt.grid(True)\n",
    "plt.show()"
   ]
  },
  {
   "cell_type": "code",
   "execution_count": null,
   "id": "122f6af6",
   "metadata": {},
   "outputs": [],
   "source": [
    "\n",
    "import numpy as np\n",
    "import matplotlib.pyplot as plt\n",
    "x = np.arange(-10, 10.01, 0.01)\n",
    "plt.figure(figsize=(10, 5))\n",
    "plt.plot(x, np.sin(x), label=r'$f_1(x)=\\sin(x)$')\n",
    "plt.plot(x, np.cos(x), label=r'$f_2(x)=\\cos(x)$')\n",
    "plt.plot(x, -x, label=r'$f_3(x)=-x$')\n",
    "plt.xlabel(r'$x$', fontsize=14)\n",
    "plt.ylabel(r'$f(x)$', fontsize=14)\n",
    "plt.grid(True)\n",
    "plt.legend(loc='best', fontsize=12)\n",
    "plt.show()"
   ]
  },
  {
   "cell_type": "code",
   "execution_count": null,
   "id": "38173eac",
   "metadata": {},
   "outputs": [],
   "source": [
    "\n",
    "import numpy as np\n",
    "import matplotlib.pyplot as plt\n",
    "x = np.arange(-10, 10.01, 0.01)\n",
    "t = np.arange(-10, 11, 1)\n",
    "\n",
    "     #subplot 1\n",
    "sp = plt.subplot(221)\n",
    "plt.plot(x, np.sin(x))\n",
    "plt.title(r'$\\sin(x)$')\n",
    "plt.grid(True)\n",
    "\n",
    "     #subplot 2\n",
    "sp = plt.subplot(222)\n",
    "plt.plot(x, np.cos(x), 'g')\n",
    "plt.axis('equal')\n",
    "plt.grid(True)\n",
    "plt.title(r'$\\cos(x)$')\n",
    "\n",
    "     #subplot 3\n",
    "sp = plt.subplot(223)\n",
    "plt.plot(x, x**2, t, t**2, 'ro')\n",
    "plt.title(r'$x^2$')\n",
    "\n",
    "     #subplot 4\n",
    "sp = plt.subplot(224)\n",
    "plt.plot(x, x)\n",
    "sp.spines['left'].set_position('center')\n",
    "sp.spines['bottom'].set_position('center')\n",
    "plt.title(r'$x$')\n",
    "\n",
    "plt.show()"
   ]
  },
  {
   "cell_type": "code",
   "execution_count": null,
   "id": "bab2c8f6",
   "metadata": {},
   "outputs": [],
   "source": [
    "import numpy as np\n",
    "import matplotlib.pyplot as plt\n",
    "plt.subplot(111, polar=True)\n",
    "phi = np.arange(0, 2*np.pi, 0.01)\n",
    "rho = 2*phi\n",
    "plt.plot(phi, rho, lw=2)\n",
    "plt.show()"
   ]
  },
  {
   "cell_type": "code",
   "execution_count": null,
   "id": "bf31c43f",
   "metadata": {},
   "outputs": [],
   "source": [
    "import matplotlib.pyplot as plt\n",
    "x = [1, 2, 3, 4, 5]\n",
    "y = [0.99, 0.49, 0.35, 0.253, 0.18]\n",
    "plt.errorbar(x, y, xerr=0.05, yerr=0.1)\n",
    "plt.grid()\n",
    "plt.show()"
   ]
  },
  {
   "cell_type": "code",
   "execution_count": null,
   "id": "55b86599",
   "metadata": {
    "scrolled": false
   },
   "outputs": [],
   "source": [
    "# упражнение 1\n",
    "import numpy as np\n",
    "x = 10\n",
    "y = np.log((np.e ** (1 /(np.sin(x) + 1))) / ((5 /4) + (1 /((x ** 1) * 5 )))) / np.log(1 + x ** 2)\n",
    "print(y)"
   ]
  },
  {
   "cell_type": "code",
   "execution_count": null,
   "id": "6dcbad4b",
   "metadata": {
    "scrolled": false
   },
   "outputs": [],
   "source": [
    "# упражнение 2\n",
    "import numpy as np\n",
    "import matplotlib.pyplot as plt\n",
    "\n",
    "x = np.arange(-10, 10.01, 0.01)\n",
    "y = x * x - x - 6\n",
    "plt.plot(x,y, label =r' $y=\\ x * x - x - 6$')\n",
    "plt.legend()\n",
    "plt.grid(True)\n",
    "plt.show()"
   ]
  },
  {
   "cell_type": "code",
   "execution_count": null,
   "id": "0fa868c9",
   "metadata": {
    "scrolled": false
   },
   "outputs": [],
   "source": [
    "# упражнение 3\n",
    "import numpy as np\n",
    "import matplotlib.pyplot as plt\n",
    "\n",
    "x = np.arange(-10, 10.01, 0.01)\n",
    "y = np.log((x ** 2) * (np.exp(-(np.abs(x) / 10)))) / np.log(1 + (np.tan(1 / (1 + (np.sin(x)) ** 2))))\n",
    "plt.plot(x,y)\n",
    "plt.grid(True)\n",
    "plt.show()"
   ]
  }
 ],
 "metadata": {
  "kernelspec": {
   "display_name": "Python 3 (ipykernel)",
   "language": "python",
   "name": "python3"
  },
  "language_info": {
   "codemirror_mode": {
    "name": "ipython",
    "version": 3
   },
   "file_extension": ".py",
   "mimetype": "text/x-python",
   "name": "python",
   "nbconvert_exporter": "python",
   "pygments_lexer": "ipython3",
   "version": "3.11.1"
  }
 },
 "nbformat": 4,
 "nbformat_minor": 5
}
