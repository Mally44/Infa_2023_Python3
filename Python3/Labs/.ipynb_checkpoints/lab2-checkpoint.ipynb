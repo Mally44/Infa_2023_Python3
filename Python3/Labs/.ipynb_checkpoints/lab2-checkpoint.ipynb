{
 "cells": [
  {
   "cell_type": "code",
   "execution_count": null,
   "id": "d7d0161e",
   "metadata": {},
   "outputs": [],
   "source": [
    "# упражнение 1\n",
    "import random\n",
    "import turtle\n",
    "t = turtle.Turtle()\n",
    "t.shape('turtle')\n",
    "t.color('red')\n",
    "t.speed(10)\n",
    "for i in range(60):\n",
    "    t.fd(random.randint(10, 40))\n",
    "    t.rt(random.randint(1, 360))"
   ]
  },
  {
   "cell_type": "code",
   "execution_count": null,
   "id": "f4cd232b",
   "metadata": {},
   "outputs": [],
   "source": [
    "A = ['red', 'green', 'blue']\n",
    "print(' '.join(A))\n",
    "print(''.join(A))\n",
    "print('***'.join(A))"
   ]
  },
  {
   "cell_type": "code",
   "execution_count": null,
   "id": "3c006165",
   "metadata": {},
   "outputs": [],
   "source": [
    "A = [1, 2, 3, 4, 5]\n",
    "A[2:4] = [7, 8, 9]\n",
    "print(A)"
   ]
  },
  {
   "cell_type": "code",
   "execution_count": null,
   "id": "f15afbcd",
   "metadata": {
    "scrolled": true
   },
   "outputs": [],
   "source": [
    "# упражнение 3, файл в котором упражнение 2\n",
    "import lab2file"
   ]
  },
  {
   "cell_type": "code",
   "execution_count": null,
   "id": "2e49016d",
   "metadata": {},
   "outputs": [],
   "source": [
    "# упражнение 4 неправильное\n",
    "import turtle\n",
    "t = turtle.Turtle()\n",
    "t.shape('turtle')\n",
    "t.width(7)\n",
    "t.goto(200, 0)\n",
    "t.goto(-250, 0)\n",
    "t.rt(90)\n",
    "t.width(2)\n",
    "radius = 60\n",
    "for x in range(6):\n",
    "    t.circle(radius, -180)\n",
    "    t.rt(180)\n",
    "    radius -= 10"
   ]
  },
  {
   "cell_type": "code",
   "execution_count": null,
   "id": "7fdbe8df",
   "metadata": {},
   "outputs": [],
   "source": [
    "# упражнение 4 правильное\n",
    "import turtle\n",
    "import numpy as np\n",
    "\n",
    "\n",
    "turtle.shape('circle')\n",
    "turtle.width(3)\n",
    "turtle.goto(320, 0)\n",
    "turtle.goto(-300, 0)\n",
    "\n",
    "\n",
    "v = 15\n",
    "a = 1.4\n",
    "x = -300\n",
    "ay = 10\n",
    "for i in range(16):\n",
    "    y = 0\n",
    "    vx = v * np.cos(a)\n",
    "    for t in np.arange(0.1, 30, 0.1):\n",
    "        vy = v * np.sin(a) - ay * t\n",
    "        turtle.goto(x, y)\n",
    "        vy += ay * t\n",
    "        y += vy*t - ay*t**2/2\n",
    "        x += vx*t\n",
    "        if y <= 0:\n",
    "            turtle.goto(x, 0)\n",
    "            v -= 2\n",
    "            break"
   ]
  },
  {
   "cell_type": "code",
   "execution_count": null,
   "id": "cd7082d2",
   "metadata": {},
   "outputs": [],
   "source": [
    "# упражнение 5\n",
    "from random import randint\n",
    "import turtle as t\n",
    "t.width(3)\n",
    "t.hideturtle()\n",
    "t.up()\n",
    "t.goto(-250, 250)\n",
    "t.down()\n",
    "t.goto(250,250)\n",
    "t.goto(250,-250)\n",
    "t.goto(-250,-250)\n",
    "t.goto(-250,250)\n",
    "\n",
    "\n",
    "\n",
    "number_of_turtles = 10\n",
    "steps_of_time_number = 1000\n",
    "\n",
    "\n",
    "pool = [t.Turtle(shape='circle') for i in range(number_of_turtles)]\n",
    "for unit in pool:\n",
    "    unit.penup()\n",
    "    unit.speed(50)\n",
    "    unit.goto(randint(-240, 240), randint(-240, 240))\n",
    "\n",
    "vx = randint(-5,5)\n",
    "vy = randint(-5,5)\n",
    "for i in range(steps_of_time_number):\n",
    "    for unit in pool:\n",
    "        x,y = unit.pos()\n",
    "        unit.goto(x + vx,y + vy)\n",
    "        if x + vx >= 250 or x + vx <= -250:\n",
    "            vx = -vx\n",
    "        if y + vy >= 250 or y + vy <= -250:\n",
    "            vy = -vy\n",
    "            \n",
    "            \n",
    "\n",
    "\n",
    "\n"
   ]
  }
 ],
 "metadata": {
  "kernelspec": {
   "display_name": "Python 3 (ipykernel)",
   "language": "python",
   "name": "python3"
  },
  "language_info": {
   "codemirror_mode": {
    "name": "ipython",
    "version": 3
   },
   "file_extension": ".py",
   "mimetype": "text/x-python",
   "name": "python",
   "nbconvert_exporter": "python",
   "pygments_lexer": "ipython3",
   "version": "3.11.1"
  }
 },
 "nbformat": 4,
 "nbformat_minor": 5
}
