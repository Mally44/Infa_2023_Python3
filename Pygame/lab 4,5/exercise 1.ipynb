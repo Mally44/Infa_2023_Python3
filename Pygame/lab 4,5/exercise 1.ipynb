{
 "cells": [
  {
   "cell_type": "code",
   "execution_count": null,
   "id": "c1930911",
   "metadata": {},
   "outputs": [],
   "source": [
    "# exersice 1\n",
    "import pygame\n",
    "from pygame.draw import *\n",
    "\n",
    "pygame.init()\n",
    "\n",
    "FPS = 30\n",
    "screen = pygame.display.set_mode((600, 600))\n",
    "screen.fill((192, 192, 192))\n",
    "\n",
    "black = (0, 0, 0)\n",
    "yellow = (255, 255, 0)\n",
    "red = (255, 0, 0)\n",
    "\n",
    "circle(screen, yellow, (300, 300), 130)\n",
    "circle(screen, black, (300, 300), 130, 2)\n",
    "circle(screen, red, (240, 270), 22)\n",
    "circle(screen, black, (240, 270), 22, 1)\n",
    "circle(screen, black, (240, 270), 10)\n",
    "circle(screen, red, (350, 270), 17)\n",
    "circle(screen, black, (350, 270), 17, 1)\n",
    "circle(screen, black, (350, 270), 8)\n",
    "rect(screen, black, (235, 360, 130, 25))\n",
    "def draw_rect_angle(surface, color, rect, angle, width=0):\n",
    "    target_rect = pygame.Rect(rect)\n",
    "    shape_surf = pygame.Surface(target_rect.size, pygame.SRCALPHA)\n",
    "    pygame.draw.rect(shape_surf, color, (0, 0, *target_rect.size), width)\n",
    "    rotated_surf = pygame.transform.rotate(shape_surf, angle)\n",
    "    surface.blit(rotated_surf, rotated_surf.get_rect(center = target_rect.center))\n",
    "draw_rect_angle(screen, black, (160,223,125,13),150)\n",
    "draw_rect_angle(screen, black, (315,232,110,12),25)\n",
    "\n",
    "\n",
    "\n",
    "pygame.display.update()\n",
    "clock = pygame.time.Clock()\n",
    "finished = False\n",
    "\n",
    "while not finished:\n",
    "    clock.tick(FPS)\n",
    "    for event in pygame.event.get():\n",
    "        if event.type == pygame.QUIT:\n",
    "            finished = True\n",
    "\n",
    "pygame.quit()"
   ]
  },
  {
   "cell_type": "code",
   "execution_count": null,
   "id": "4855ff99",
   "metadata": {},
   "outputs": [],
   "source": []
  }
 ],
 "metadata": {
  "kernelspec": {
   "display_name": "Python 3 (ipykernel)",
   "language": "python",
   "name": "python3"
  },
  "language_info": {
   "codemirror_mode": {
    "name": "ipython",
    "version": 3
   },
   "file_extension": ".py",
   "mimetype": "text/x-python",
   "name": "python",
   "nbconvert_exporter": "python",
   "pygments_lexer": "ipython3",
   "version": "3.11.1"
  }
 },
 "nbformat": 4,
 "nbformat_minor": 5
}
