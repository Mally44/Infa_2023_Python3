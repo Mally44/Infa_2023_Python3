{
 "cells": [
  {
   "cell_type": "code",
   "execution_count": 1,
   "id": "a5d9379b",
   "metadata": {
    "code_folding": []
   },
   "outputs": [
    {
     "name": "stdout",
     "output_type": "stream",
     "text": [
      "pygame 2.1.3.dev8 (SDL 2.0.22, Python 3.11.1)\n",
      "Hello from the pygame community. https://www.pygame.org/contribute.html\n"
     ]
    }
   ],
   "source": [
    "import pygame\n",
    "from pygame.draw import *\n",
    "from random import randint\n",
    "\n",
    "pygame.init()\n",
    "\n",
    "W, H = 1100, 800\n",
    "FPS = 1.5\n",
    "screen = pygame.display.set_mode((W, H))\n",
    "\n",
    "RED = (255, 0, 0)\n",
    "BLUE = (0, 0, 255)\n",
    "YELLOW = (255, 255, 0)\n",
    "GREEN = (0, 255, 0)\n",
    "MAGENTA = (255, 0, 255)\n",
    "CYAN = (0, 255, 255)\n",
    "BLACK = (0, 0, 0)\n",
    "COLORS = [RED, BLUE, YELLOW, GREEN, MAGENTA, CYAN]\n",
    "point = 0 # начальное количество очков\n",
    "\n",
    "\n",
    "def Points():\n",
    "    '''\n",
    "    Выводить на экран количество очков в игре\n",
    "    '''\n",
    "    f = pygame.font.Font(None, 48)\n",
    "    text = f.render((\"Points:\" + str(point)), 1, (255, 255, 255))\n",
    "    text_rect = text.get_rect(centerx=W / 2, centery=H / 2)\n",
    "    screen.blit(text, text_rect)\n",
    "\n",
    "\n",
    "def new_ball():\n",
    "    '''\n",
    "    Выводить на экран шарики разных размеров и цветов\n",
    "    '''\n",
    "    global x, y, r\n",
    "    x = randint(100, 700)\n",
    "    y = randint(100, 500)\n",
    "    r = randint(30, 50)\n",
    "    color = COLORS[randint(0, 5)]\n",
    "    circle(screen, color, (x, y), r)\n",
    "\n",
    "\n",
    "def click(event):\n",
    "    '''\n",
    "    Функция, которая прибавляет одно очко при нажатие на шар\n",
    "    '''\n",
    "    global point\n",
    "    if (event.pos[0] - x)**2 + (event.pos[1] - y)**2 <= r**2:\n",
    "        point += 1\n",
    "\n",
    "\n",
    "pygame.display.update()\n",
    "clock = pygame.time.Clock()\n",
    "finished = False\n",
    "\n",
    "while not finished:\n",
    "    clock.tick(FPS)\n",
    "    for event in pygame.event.get():\n",
    "        if event.type == pygame.QUIT:\n",
    "            finished = True\n",
    "        elif event.type == pygame.MOUSEBUTTONDOWN:\n",
    "            click(event)\n",
    "\n",
    "    screen.fill(BLACK)\n",
    "    new_ball()\n",
    "    pygame.display.update()\n",
    "\n",
    "Points()\n",
    "pygame.display.update()\n",
    "\n",
    "pygame.quit()"
   ]
  },
  {
   "cell_type": "code",
   "execution_count": null,
   "id": "0000d876",
   "metadata": {},
   "outputs": [],
   "source": []
  }
 ],
 "metadata": {
  "kernelspec": {
   "display_name": "Python 3 (ipykernel)",
   "language": "python",
   "name": "python3"
  },
  "language_info": {
   "codemirror_mode": {
    "name": "ipython",
    "version": 3
   },
   "file_extension": ".py",
   "mimetype": "text/x-python",
   "name": "python",
   "nbconvert_exporter": "python",
   "pygments_lexer": "ipython3",
   "version": "3.11.1"
  }
 },
 "nbformat": 4,
 "nbformat_minor": 5
}
