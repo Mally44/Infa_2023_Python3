{
 "cells": [
  {
   "cell_type": "code",
   "execution_count": null,
   "id": "4dae594e",
   "metadata": {},
   "outputs": [],
   "source": [
    "import pygame\n",
    "from pygame.draw import *\n",
    "from random import randint\n",
    "\n",
    "pygame.init()\n",
    "\n",
    "FPS = 1\n",
    "screen = pygame.display.set_mode((1200, 900))\n",
    "\n",
    "RED = (255, 0, 0)\n",
    "BLUE = (0, 0, 255)\n",
    "YELLOW = (255, 255, 0)\n",
    "GREEN = (0, 255, 0)\n",
    "MAGENTA = (255, 0, 255)\n",
    "CYAN = (0, 255, 255)\n",
    "BLACK = (0, 0, 0)\n",
    "COLORS = [RED, BLUE, YELLOW, GREEN, MAGENTA, CYAN]\n",
    "\n",
    "\n",
    "def new_ball():\n",
    "    global x, y, r\n",
    "    x = randint(100,700)\n",
    "    y = randint(100,500)\n",
    "    r = randint(30,50)\n",
    "    color = COLORS[randint(0, 5)]\n",
    "    circle(screen, color, (x, y), r)\n",
    "\n",
    "def click(event):\n",
    "    print(x, y, r)\n",
    "    \n",
    "\n",
    "\n",
    "pygame.display.update()\n",
    "clock = pygame.time.Clock()\n",
    "finished = False\n",
    "\n",
    "while not finished:\n",
    "    clock.tick(FPS)\n",
    "    for event in pygame.event.get():\n",
    "        if event.type == pygame.QUIT:\n",
    "            finished = True\n",
    "        elif event.type == pygame.MOUSEBUTTONDOWN:\n",
    "            event.x, event.y = event.pos\n",
    "            print(event.x, event.y)\n",
    "            print('Click!')\n",
    "            \n",
    "    new_ball()\n",
    "    click(event)\n",
    "    pygame.display.update()\n",
    "    screen.fill(BLACK)\n",
    "\n",
    "    \n",
    "pygame.quit()"
   ]
  },
  {
   "cell_type": "code",
   "execution_count": null,
   "id": "cc7d437f",
   "metadata": {},
   "outputs": [],
   "source": []
  }
 ],
 "metadata": {
  "kernelspec": {
   "display_name": "Python 3 (ipykernel)",
   "language": "python",
   "name": "python3"
  },
  "language_info": {
   "codemirror_mode": {
    "name": "ipython",
    "version": 3
   },
   "file_extension": ".py",
   "mimetype": "text/x-python",
   "name": "python",
   "nbconvert_exporter": "python",
   "pygments_lexer": "ipython3",
   "version": "3.11.1"
  }
 },
 "nbformat": 4,
 "nbformat_minor": 5
}
