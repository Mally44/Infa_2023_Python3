{
 "cells": [
  {
   "cell_type": "code",
   "execution_count": null,
   "id": "07c69b96",
   "metadata": {
    "code_folding": []
   },
   "outputs": [],
   "source": [
    "import pygame\n",
    "from pygame.draw import *\n",
    "from random import randint\n",
    "%run ball.ipynb\n",
    "%run square.ipynb\n",
    "\n",
    "pygame.init()\n",
    "W, H = 1100, 700\n",
    "FPS = 30\n",
    "screen = pygame.display.set_mode((W, H))\n",
    "\n",
    "RED = (255, 0, 0)\n",
    "BLUE = (0, 0, 255)\n",
    "YELLOW = (255, 255, 0)\n",
    "GREEN = (0, 255, 0)\n",
    "MAGENTA = (255, 0, 255)\n",
    "CYAN = (0, 255, 255)\n",
    "BLACK = (0, 0, 0)\n",
    "COLORS = [RED, BLUE, YELLOW, GREEN, MAGENTA, CYAN]\n",
    "\n",
    "a, b = map(int, input('Balls, squares: ').split())\n",
    "your_name = input('Text your name:')\n",
    "balls, squares = [Ball() for i in range(a)], [Square() for i in range(b)]\n",
    "ball = Ball()\n",
    "square = Square()\n",
    "\n",
    "pygame.display.update()\n",
    "clock = pygame.time.Clock()\n",
    "finished = False\n",
    "\n",
    "\n",
    "while not finished:\n",
    "    clock.tick(FPS)\n",
    "    for event in pygame.event.get():\n",
    "        if event.type == pygame.QUIT:\n",
    "            finished = True\n",
    "        elif event.type == pygame.MOUSEBUTTONDOWN:\n",
    "            for ball in balls:\n",
    "                ball.click(event)\n",
    "            for square in squares:\n",
    "                square.click(event)\n",
    "\n",
    "    screen.fill(BLACK)\n",
    "    for ball in balls:\n",
    "        ball.create()\n",
    "    for square in squares:\n",
    "        square.create()\n",
    "    ball.Points()\n",
    "    square.Points()\n",
    "    end_ticks = pygame.time.get_ticks()/1000\n",
    "    pygame.display.update()\n",
    "\n",
    "    if ball.point >= 5 or square.point >= 5:\n",
    "        screen.fill(BLACK)\n",
    "        finished = True\n",
    "\n",
    "f = pygame.font.Font(None, 96)\n",
    "text = f.render((str(your_name) + '-Your time: ' + str(end_ticks)), True, (255, 255, 255))\n",
    "text_rect = text.get_rect(centerx=W // 2, centery=H // 2)\n",
    "screen.blit(text, text_rect)\n",
    "\n",
    "pygame.display.update()\n",
    "pygame.quit()"
   ]
  },
  {
   "cell_type": "code",
   "execution_count": null,
   "id": "bc44501d",
   "metadata": {},
   "outputs": [],
   "source": []
  }
 ],
 "metadata": {
  "kernelspec": {
   "display_name": "Python 3 (ipykernel)",
   "language": "python",
   "name": "python3"
  },
  "language_info": {
   "codemirror_mode": {
    "name": "ipython",
    "version": 3
   },
   "file_extension": ".py",
   "mimetype": "text/x-python",
   "name": "python",
   "nbconvert_exporter": "python",
   "pygments_lexer": "ipython3",
   "version": "3.11.1"
  }
 },
 "nbformat": 4,
 "nbformat_minor": 5
}
