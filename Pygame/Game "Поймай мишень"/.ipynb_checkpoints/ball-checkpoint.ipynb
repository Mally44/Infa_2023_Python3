{
 "cells": [
  {
   "cell_type": "code",
   "execution_count": null,
   "id": "446e2cb1",
   "metadata": {
    "code_folding": []
   },
   "outputs": [],
   "source": [
    "import pygame\n",
    "from pygame.draw import *\n",
    "from random import randint\n",
    "\n",
    "\n",
    "class Ball():\n",
    "    def __init__(self):\n",
    "        self.x = randint(100, 600)\n",
    "        self.y = randint(100, 500)\n",
    "        self.r = randint(30, 50)\n",
    "        self.point = 0\n",
    "        self.color = COLORS[randint(0, 5)]\n",
    "        self.speedx = randint(-10, 10)\n",
    "        self.speedy = randint(-10, 10)\n",
    "\n",
    "    def create(self):\n",
    "        '''\n",
    "        Создает шарики разных цветов и размеров\n",
    "        '''\n",
    "        self.move()\n",
    "        circle(screen, self.color, (self.x, self.y), self.r)\n",
    "\n",
    "    def move(self):\n",
    "        '''\n",
    "        Двигает шарики и отражает от стен\n",
    "        '''\n",
    "        self.x += self.speedx\n",
    "        self.y += self.speedy\n",
    "\n",
    "        if self.x >= W - self.r or self.x <= self.r:\n",
    "            self.speedx = -self.speedx\n",
    "        if self.y >= H - self.r or self.y <= self.r:\n",
    "            self.speedy = -self.speedy\n",
    "\n",
    "    def click(self, event):\n",
    "        '''\n",
    "        Функция, которая прибавляет одно очко при нажатие на шар,\n",
    "        а также при нажатии на мышку меняет положение шарика, его размер,\n",
    "        цвет и скорость передвижения\n",
    "        '''\n",
    "        if (event.pos[0] - self.x)**2 + (event.pos[1] - self.y)**2 <= self.r**2:\n",
    "            self.point += 1\n",
    "\n",
    "        self.x = randint(100, 700)\n",
    "        self.y = randint(100, 500)\n",
    "        self.r = randint(30, 50)\n",
    "        self.color = COLORS[randint(0, 5)]\n",
    "        self.speedx = randint(-10, 10)\n",
    "        self.speedy = randint(-10, 10)\n",
    "\n",
    "    def Points(self):\n",
    "        '''\n",
    "        Выводить на экран количество очков шариков в игре\n",
    "        '''\n",
    "        f = pygame.font.Font(None, 36)\n",
    "        text = f.render((\"Points_ball:\" + str(self.point)), 1, (255, 0, 0))\n",
    "        text_rect = text.get_rect(topleft=(0, 30))\n",
    "        screen.blit(text, text_rect)\n",
    "        \n",
    "    "
   ]
  },
  {
   "cell_type": "code",
   "execution_count": null,
   "id": "3d4dbe1b",
   "metadata": {},
   "outputs": [],
   "source": []
  }
 ],
 "metadata": {
  "kernelspec": {
   "display_name": "Python 3 (ipykernel)",
   "language": "python",
   "name": "python3"
  },
  "language_info": {
   "codemirror_mode": {
    "name": "ipython",
    "version": 3
   },
   "file_extension": ".py",
   "mimetype": "text/x-python",
   "name": "python",
   "nbconvert_exporter": "python",
   "pygments_lexer": "ipython3",
   "version": "3.11.1"
  }
 },
 "nbformat": 4,
 "nbformat_minor": 5
}
